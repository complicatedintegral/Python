{
 "cells": [
  {
   "cell_type": "markdown",
   "metadata": {},
   "source": [
    "### Tokens\n",
    "1. Keywords: Words conveying special meaning to compiler\n",
    "2. Identifiers: Names given to different parts of the program (variables, objects, classes)\n",
    "3. Literals: Data items that have a fixed value\n",
    "    - Escape characters: Non graphic characters that can't be typed on keyboard (e.g : \\\\, \\\", etc)\n",
    "    - String Literals:\n",
    "        1. Single line: Enclosed in single or double quotes\n",
    "        2. Multiline: Add a backlash at the end of every single/double quote string or use triple quotation marks (Enter keys are counted in length but backslashes are not)\n",
    "    - Numeric Literals\n",
    "        1. int\n",
    "        2. float\n",
    "        3. complex\n",
    "    - Boolen Literals (True/False)\n",
    "    - Special Literal 'None': Indicates absense of value"
   ]
  },
  {
   "cell_type": "code",
   "execution_count": 3,
   "metadata": {},
   "outputs": [
    {
     "name": "stdout",
     "output_type": "stream",
     "text": [
      "Hello world\n",
      "helloworld\n",
      "hello\n",
      "world\n",
      "\n"
     ]
    }
   ],
   "source": [
    "# String literals\n",
    "\n",
    "print(\"Hello world\")\n",
    "str1 = 'hello\\\n",
    "world'\n",
    "# backlash leaves no space, or newline\n",
    "str2 = '''hello\n",
    "world\n",
    "'''\n",
    "# doctrings, i.e triple quotes print strings as it is\n",
    "print(str1)\n",
    "print(str2)\n",
    "      "
   ]
  },
  {
   "cell_type": "code",
   "execution_count": 17,
   "metadata": {},
   "outputs": [
    {
     "name": "stdout",
     "output_type": "stream",
     "text": [
      "4.5 1.5\n",
      "15 12 58.0\n"
     ]
    }
   ],
   "source": [
    "# Numeric Literals\n",
    "\n",
    "a = 0o17 # octal integer\n",
    "b = 0xC  # hexa integer\n",
    "c = 0.58e2 # exponential literal\n",
    "z = 4.5 + 1.5j # complex literal\n",
    "print(z.real, z.imag)\n",
    "print(a, b, c)"
   ]
  },
  {
   "cell_type": "code",
   "execution_count": 23,
   "metadata": {},
   "outputs": [
    {
     "name": "stdout",
     "output_type": "stream",
     "text": [
      "0.30000000000000004\n",
      "False\n"
     ]
    }
   ],
   "source": [
    "# Floating point approximation\n",
    "x = 0.1 + 0.1 + 0.1\n",
    "print(x)\n",
    "print(x == 0.3)"
   ]
  },
  {
   "cell_type": "code",
   "execution_count": 19,
   "metadata": {},
   "outputs": [
    {
     "name": "stdout",
     "output_type": "stream",
     "text": [
      "20 10 10 140715192093720 140715192093400 140715192093400\n"
     ]
    }
   ],
   "source": [
    "# Variables are labels pointing to different to memory locations where the value is stored\n",
    "\n",
    "x = y = z = 10\n",
    "x = 20\n",
    "print(x,y,z,id(x),id(y),id(z))"
   ]
  },
  {
   "cell_type": "code",
   "execution_count": 16,
   "metadata": {},
   "outputs": [
    {
     "name": "stdout",
     "output_type": "stream",
     "text": [
      "gautham\n",
      "5\n",
      "My...name...is...GauthamHello world\n"
     ]
    }
   ],
   "source": [
    "# Input and Output\n",
    "\n",
    "s = input(\"Enter your name: \") # input() function always returns string type\n",
    "print(s)\n",
    "s = int(input(\"Enter a number: \"))\n",
    "print(s)\n",
    "\n",
    "# sep and end\n",
    "print(\"My\",\"name\",\"is\",\"Gautham\",sep=\"...\",end=\"\")\n",
    "print(\"Hello world\")"
   ]
  },
  {
   "cell_type": "code",
   "execution_count": 24,
   "metadata": {},
   "outputs": [
    {
     "name": "stdout",
     "output_type": "stream",
     "text": [
      "True\n",
      "False\n"
     ]
    }
   ],
   "source": [
    "# Difference between == and is operator\n",
    "str = \"hello\"\n",
    "s = input() # input is hello\n",
    "print(str==s) # compares values stored in variables\n",
    "print(str is s) # compares memory locations"
   ]
  },
  {
   "cell_type": "markdown",
   "metadata": {},
   "source": [
    "## Flow of control\n",
    "- if statement (brackets are not required)\n",
    "- if-else statement\n",
    "- if-elif-else statement block\n",
    "- nested if (if-elif-else statements within another if statement)\n",
    "- range() function \n",
    "    - syntax: range[lower limit, upper limit, step value]\n",
    "\n"
   ]
  },
  {
   "cell_type": "code",
   "execution_count": 30,
   "metadata": {},
   "outputs": [
    {
     "name": "stdout",
     "output_type": "stream",
     "text": [
      "Even\n"
     ]
    }
   ],
   "source": [
    "# Program to check whether a number is odd or even\n",
    "\n",
    "n = int(input(\"Enter a number: \"))\n",
    "if n%2 == 0:\n",
    "    print(\"Even\")\n",
    "else:\n",
    "    print(\"Odd\")"
   ]
  },
  {
   "cell_type": "markdown",
   "metadata": {},
   "source": [
    "## Iteration/Looping statements\n",
    "- for loop\n",
    "    - syntax: for variable in sequence: statement to be repeated\n",
    "- while loop\n",
    "    - syntax : whiile logical expression: statement to be repeated\n",
    "    - Note: else clause can be used with for and while loops\n",
    "- Jump statements: break and continue"
   ]
  },
  {
   "cell_type": "code",
   "execution_count": 43,
   "metadata": {},
   "outputs": [
    {
     "name": "stdout",
     "output_type": "stream",
     "text": [
      "1\n",
      "9\n",
      "25\n",
      "Done\n",
      "\n",
      "0\n",
      "1\n",
      "9\n"
     ]
    }
   ],
   "source": [
    "for i in range(1,6,2):\n",
    "    print(i*i)\n",
    "else:\n",
    "    print(\"Done\")\n",
    "\n",
    "print()\n",
    "n = 5\n",
    "i = 0\n",
    "while i<n:\n",
    "    i+=1\n",
    "    if i==2:\n",
    "        continue # 2*2 is not printed as following statements are skipped for the current iteration\n",
    "    print(i*i)\n",
    "    if i==3:\n",
    "        break # 4*4 won't be printed as for loop is broken at i=3, even else statement won't be printed\n",
    "else:\n",
    "    print(\"Done\")"
   ]
  }
 ],
 "metadata": {
  "kernelspec": {
   "display_name": "Python 3",
   "language": "python",
   "name": "python3"
  },
  "language_info": {
   "codemirror_mode": {
    "name": "ipython",
    "version": 3
   },
   "file_extension": ".py",
   "mimetype": "text/x-python",
   "name": "python",
   "nbconvert_exporter": "python",
   "pygments_lexer": "ipython3",
   "version": "3.12.5"
  }
 },
 "nbformat": 4,
 "nbformat_minor": 2
}
