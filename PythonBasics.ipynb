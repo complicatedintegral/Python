{
 "cells": [
  {
   "cell_type": "markdown",
   "metadata": {},
   "source": [
    "### Tokens\n",
    "1. Keywords: Words conveying special meaning to compiler\n",
    "2. Identifiers: Names given to different parts of the program (variables, objects, classes)\n",
    "3. Literals: Data items that have a fixed value\n",
    "    - Escape characters: Non graphic characters that can't be typed on keyboard (e.g : \\\\, \\\", etc)\n",
    "    - String Literals:\n",
    "        1. Single line: Enclosed in single or double quotes\n",
    "        2. Multiline: Add a backlash at the end of every single/double quote string or use triple quotation marks (Enter keys are counted in length but backslashes are not)\n",
    "    - Numeric Literals\n",
    "        1. int\n",
    "        2. float\n",
    "        3. complex\n",
    "    - Boolen Literals (True/False)\n",
    "    - Special Literal 'None': Indicates absense of value"
   ]
  },
  {
   "cell_type": "code",
   "execution_count": 3,
   "metadata": {},
   "outputs": [
    {
     "name": "stdout",
     "output_type": "stream",
     "text": [
      "Hello world\n",
      "helloworld\n",
      "hello\n",
      "world\n",
      "\n"
     ]
    }
   ],
   "source": [
    "# String literals\n",
    "\n",
    "print(\"Hello world\")\n",
    "str1 = 'hello\\\n",
    "world'\n",
    "# backlash leaves no space, or newline\n",
    "str2 = '''hello\n",
    "world\n",
    "'''\n",
    "# doctrings, i.e triple quotes print strings as it is\n",
    "print(str1)\n",
    "print(str2)\n",
    "      "
   ]
  },
  {
   "cell_type": "code",
   "execution_count": 17,
   "metadata": {},
   "outputs": [
    {
     "name": "stdout",
     "output_type": "stream",
     "text": [
      "4.5 1.5\n",
      "15 12 58.0\n"
     ]
    }
   ],
   "source": [
    "# Numeric Literals\n",
    "\n",
    "a = 0o17 # octal integer\n",
    "b = 0xC  # hexa integer\n",
    "c = 0.58e2 # exponential literal\n",
    "z = 4.5 + 1.5j # complex literal\n",
    "print(z.real, z.imag)\n",
    "print(a, b, c)"
   ]
  },
  {
   "cell_type": "code",
   "execution_count": 23,
   "metadata": {},
   "outputs": [
    {
     "name": "stdout",
     "output_type": "stream",
     "text": [
      "0.30000000000000004\n",
      "False\n"
     ]
    }
   ],
   "source": [
    "# Floating point approximation\n",
    "x = 0.1 + 0.1 + 0.1\n",
    "print(x)\n",
    "print(x == 0.3)"
   ]
  },
  {
   "cell_type": "code",
   "execution_count": 19,
   "metadata": {},
   "outputs": [
    {
     "name": "stdout",
     "output_type": "stream",
     "text": [
      "20 10 10 140715192093720 140715192093400 140715192093400\n"
     ]
    }
   ],
   "source": [
    "# Variables are labels pointing to different to memory locations where the value is stored\n",
    "\n",
    "x = y = z = 10\n",
    "x = 20\n",
    "print(x,y,z,id(x),id(y),id(z))"
   ]
  },
  {
   "cell_type": "code",
   "execution_count": 16,
   "metadata": {},
   "outputs": [
    {
     "name": "stdout",
     "output_type": "stream",
     "text": [
      "gautham\n",
      "5\n",
      "My...name...is...GauthamHello world\n"
     ]
    }
   ],
   "source": [
    "# Input and Output\n",
    "\n",
    "s = input(\"Enter your name: \") # input() function always returns string type\n",
    "print(s)\n",
    "s = int(input(\"Enter a number: \"))\n",
    "print(s)\n",
    "\n",
    "# sep and end\n",
    "print(\"My\",\"name\",\"is\",\"Gautham\",sep=\"...\",end=\"\")\n",
    "print(\"Hello world\")"
   ]
  },
  {
   "cell_type": "code",
   "execution_count": 24,
   "metadata": {},
   "outputs": [
    {
     "name": "stdout",
     "output_type": "stream",
     "text": [
      "True\n",
      "False\n"
     ]
    }
   ],
   "source": [
    "# Difference between == and is operator\n",
    "str = \"hello\"\n",
    "s = input() # input is hello\n",
    "print(str==s) # compares values stored in variables\n",
    "print(str is s) # compares memory locations"
   ]
  },
  {
   "cell_type": "markdown",
   "metadata": {},
   "source": [
    "### Flow of control\n",
    "- if statement (brackets are not required)\n",
    "- if-else statement\n",
    "- if-elif-else statement block\n",
    "- nested if (if-elif-else statements within another if statement)\n",
    "- range() function \n",
    "    - syntax: range[lower limit, upper limit, step value]\n",
    "\n"
   ]
  },
  {
   "cell_type": "code",
   "execution_count": 30,
   "metadata": {},
   "outputs": [
    {
     "name": "stdout",
     "output_type": "stream",
     "text": [
      "Even\n"
     ]
    }
   ],
   "source": [
    "# Program to check whether a number is odd or even\n",
    "\n",
    "n = int(input(\"Enter a number: \"))\n",
    "if n%2 == 0:\n",
    "    print(\"Even\")\n",
    "else:\n",
    "    print(\"Odd\")"
   ]
  },
  {
   "cell_type": "markdown",
   "metadata": {},
   "source": [
    "### Iteration/Looping statements\n",
    "- for loop\n",
    "    - syntax: for variable in sequence: statement to be repeated\n",
    "- while loop\n",
    "    - syntax : whiile logical expression: statement to be repeated\n",
    "    - Note: else clause can be used with for and while loops\n",
    "- Jump statements: break and continue"
   ]
  },
  {
   "cell_type": "code",
   "execution_count": 44,
   "metadata": {},
   "outputs": [
    {
     "name": "stdout",
     "output_type": "stream",
     "text": [
      "1\n",
      "9\n",
      "25\n",
      "Done\n",
      "\n",
      "1\n",
      "9\n"
     ]
    }
   ],
   "source": [
    "for i in range(1,6,2):\n",
    "    print(i*i)\n",
    "else:\n",
    "    print(\"Done\")\n",
    "\n",
    "print()\n",
    "n = 5\n",
    "i = 0\n",
    "while i<n:\n",
    "    i+=1\n",
    "    if i==2:\n",
    "        continue # 2*2 is not printed as following statements are skipped for the current iteration\n",
    "    print(i*i)\n",
    "    if i==3:\n",
    "        break # 4*4 won't be printed as for loop is broken at i=3, even else statement won't be printed\n",
    "else:\n",
    "    print(\"Done\")"
   ]
  },
  {
   "cell_type": "markdown",
   "metadata": {},
   "source": [
    "### String Manipulation\n",
    "- Strings are immutable\n",
    "- Strings can be indexed from both directions\n",
    "- Basic operators:\n",
    "    - Concatenation operator +\n",
    "    - Replication operator *\n",
    "    - Membership operators (in and not in)\n",
    "    - Comparison operators can also be used on strings\n",
    "- To find ascii value, use ord()\n",
    "- To find character from ascii value, use chr()\n",
    "- String slicing:\n",
    "    - syntax: str[start:stop:step]\n",
    "- Built in string methods: (syntax for everything except length is string.method_name)\n",
    "    1. len() : returns length of the string\n",
    "        - syntax: len(string)\n",
    "    2. capitalize() : returns string with first letter capitalized\n",
    "        - syntax: string.capitalize()\n",
    "    3. count() : counts occurence of string sub in main string\n",
    "        - syntax: string.count(sub,start,end)\n",
    "    4. find() : returns lowest index of string sub in main string, -1 if string isn't found\n",
    "        - syntax: string.find(sub,start,end)\n",
    "    5. index() : returns lowest index, raises ValueError if string isn't found\n",
    "        - syntax: string.index(sub,start,end)\n",
    "    6. isalnum() : True if string contains alphanumeric characters else False\n",
    "        - syntax: string.isalnum()\n",
    "    7. isalpha(), isdigit(), islower(), isupper() : similar to isalnum() method\n",
    "    8. lower(), upper() : returns a copy of the string in lowercase/uppercase\n",
    "        - syntax: string.lower()/string.upper()\n",
    "    9. lstrip(), rstrip(), strip() : used for removing leading/trailing/both whitespaces\n",
    "    10. startswith(), endswith()\n",
    "    11. istitle() : returns True is first letter in each word of the string is in uppercase\n",
    "    12. replace() : returns copy of string with old substring replaced with new one\n",
    "        - syntax: string.replace(old,new)\n",
    "    13. join() : joins a string or character after each member of the string iterator\n",
    "        - syntax: string.join(string iterable)\n",
    "    14. split() : splits a string based on a given string/character and returns a list containing the split strings as members\n",
    "        - default split character is \" \"    \n",
    "        - syntax: string.split(string/char)\n",
    "    15. partition() : splits string at first occurence of separator and returns a tuple with three values\n",
    "        - syntax: string.partition(separator)"
   ]
  },
  {
   "cell_type": "code",
   "execution_count": 45,
   "metadata": {},
   "outputs": [
    {
     "name": "stdout",
     "output_type": "stream",
     "text": [
      "H*e*l*l*o\n",
      "['H', 'e', 'l', 'l', 'o']\n",
      "('H*', 'e', '*l*l*o')\n"
     ]
    }
   ],
   "source": [
    "s = \"*\".join(\"Hello\")\n",
    "print(s)\n",
    "x = s.split(\"*\")\n",
    "y = s.partition(\"e\")\n",
    "print(x)\n",
    "print(y)"
   ]
  },
  {
   "cell_type": "markdown",
   "metadata": {},
   "source": [
    "### List Manipulation\n",
    "- Lists are mutable, elements of a list can be changed in place\n",
    "- Creating empty list:\n",
    "    1. l = []\n",
    "    2. l = list()\n",
    "- Lists can be created from sequences, like lists and tuples\n",
    "- eval(input()) is the most commonly used method to input a list/tuple, and can take integer/float values as well\n",
    "- Similar to strings: len(), indexing, slicing, membership operations(in and not in), +, * operators\n",
    "- True copy:\n",
    "    - b = list(a), b = a.copy(), b = a[:]\n",
    "    - writing b = a will make b point to where a is pointed to"
   ]
  },
  {
   "cell_type": "code",
   "execution_count": null,
   "metadata": {},
   "outputs": [
    {
     "name": "stdout",
     "output_type": "stream",
     "text": [
      "[1, 2, 3]\n",
      "1\n",
      "2\n",
      "3\n"
     ]
    }
   ],
   "source": [
    "l = eval(input(\"Enter a list: \"))\n",
    "print(l)\n",
    "for i in l:\n",
    "    print(i)"
   ]
  },
  {
   "cell_type": "code",
   "execution_count": 53,
   "metadata": {},
   "outputs": [
    {
     "name": "stdout",
     "output_type": "stream",
     "text": [
      "True\n",
      "[1, 2, 3, 1, 2, 3, 1, 2, 3]\n",
      "9\n",
      "[0, 6]\n"
     ]
    }
   ],
   "source": [
    "l1 = [1,2,3]\n",
    "l2 = [0,5,6]\n",
    "print(l1>l2) # comparison is done element by element\n",
    "l3 = l1*3 # replication operator\n",
    "print(l3)\n",
    "print(len(l3))\n",
    "l4 = l2[0:4:2] # list slicing\n",
    "print(l4)"
   ]
  },
  {
   "cell_type": "markdown",
   "metadata": {},
   "source": [
    "### List Manipulation methods\n",
    "1. len(list)\n",
    "2. list()\n",
    "3. list.index() : returns index of first matched item\n",
    "4. list.append() : adds an element to the end of the list\n",
    "5. list.extend() : adds multiple elements in the form of a list to the end of the list\n",
    "6. list.insert(position,item) : used to insert an element at a particular position\n",
    "7. list.pop(index) : used to remove an item from the list using index\n",
    "8. list.remove(value) : used to remove first occurence of given item (value)\n",
    "9. list.clear() : empties the list\n",
    "10. list.reverse() : reverses the list, is done in place\n",
    "11. list.sort(reverse = True/False(default)) : sorts the list, is done in place\n",
    "12. sorted(list, reverse=True/False(default)) : returns new sorted list \n",
    "13. list.count(value) : returns count of value in the list\n",
    "14. max/min/sum(list)\n",
    "15. del list[index], del list[start:stop] : to delete induvidual item, slice of items from a list\n",
    "16. del list : deletes the items of the list and the list object"
   ]
  },
  {
   "cell_type": "code",
   "execution_count": 59,
   "metadata": {},
   "outputs": [
    {
     "name": "stdout",
     "output_type": "stream",
     "text": [
      "[1, 2, 3, 4, 5]\n",
      "[1, [7, 8], 2, 10, 3, 4, 5]\n",
      "[1, 2, 10, 3, 4, 5]\n",
      "[10, 5, 4, 3, 2, 1]\n",
      "25\n"
     ]
    }
   ],
   "source": [
    "# Testing list manipulation functions\n",
    "\n",
    "l1 = [1,2,3]\n",
    "l2 = [4,5]\n",
    "l1.extend(l2) # extending list does not add a nested list\n",
    "print(l1)\n",
    "l1.insert(1,[7,8]) \n",
    "l1.insert(3,10)\n",
    "print(l1)\n",
    "l1.pop(1)\n",
    "print(l1)\n",
    "l3 = sorted(l1,reverse=True)\n",
    "print(l3)\n",
    "print(sum(l3))"
   ]
  },
  {
   "cell_type": "markdown",
   "metadata": {},
   "source": [
    "### Tuple Manipulation\n",
    "- Tuples are immutable, unlike lists\n",
    "- Tuples have the same functions as lists, except functions that allows users to remove/add items\n",
    "- Tuple unpacking\n",
    "    1. using a,b,c = tuple and reassigning values\n",
    "    2. using constructor functions, i.e list(), tuple(), etc"
   ]
  },
  {
   "cell_type": "code",
   "execution_count": 63,
   "metadata": {},
   "outputs": [
    {
     "name": "stdout",
     "output_type": "stream",
     "text": [
      "(4, 5, 3)\n",
      "(4, 5, 3, 7)\n"
     ]
    }
   ],
   "source": [
    "# Tuple unpacking\n",
    "t = (1,2,3)\n",
    "a,b,c = t\n",
    "a = 4\n",
    "b = 5\n",
    "t = a,b,c\n",
    "print(t)\n",
    "\n",
    "l = list(t)\n",
    "l.append(7)\n",
    "t = tuple(l)\n",
    "print(t)"
   ]
  },
  {
   "cell_type": "markdown",
   "metadata": {},
   "source": [
    "### Dictionary Manipulation\n",
    "- Mutable unordered collection with elements stored in the form of key:value pairs\n",
    "- Key should be immutable, e.g: string, number, tuple\n",
    "- Values in a dictionary can be accessed by using dict[key]\n",
    "- d.keys(), d.values(), d.items() can't be accessed directly, need to iterate through them\n",
    "- Ways to create dictionary:\n",
    "    1. key-value pairs using =: dict(name=\"John\",salary=10000) (keys aren't enclosed in quotes)\n",
    "    2. comma separated values: dict({'name':'John','salary':10000})\n",
    "    3. zip() : dict(zip(('name','salary'),('John',10000)))\n",
    "    4. key-value pairs using lists: dict([['name','John'],['salary',10000]])\n",
    "- Adding/updating elements: dict[key] = value\n",
    "- Deleting elements: del dict[key]\n",
    "- Check whether key in dict: key in/not in dict\n",
    "- Pretty printing a dictionary:\n",
    "    - Use json.dumps(dict, indent=n)"
   ]
  },
  {
   "cell_type": "code",
   "execution_count": 71,
   "metadata": {},
   "outputs": [
    {
     "name": "stdout",
     "output_type": "stream",
     "text": [
      "1 one\n",
      "2 two\n",
      "3 three\n",
      "1\n",
      "2\n",
      "3\n",
      "{\n",
      "  \"1\": \"one\",\n",
      "  \"2\": \"two\",\n",
      "  \"3\": \"three\"\n",
      "}\n",
      "1 one\n",
      "2 two\n",
      "3 three\n"
     ]
    }
   ],
   "source": [
    "import json\n",
    "d = {1:\"one\",2:\"two\",3:\"three\"}\n",
    "for key in d:\n",
    "    print(key, d[key])\n",
    "\n",
    "for i in d.keys():\n",
    "    print(i)\n",
    "\n",
    "print(json.dumps(d,indent=2))\n",
    "\n",
    "for i,j in d.items():\n",
    "    print(i,j)"
   ]
  },
  {
   "cell_type": "code",
   "execution_count": 70,
   "metadata": {},
   "outputs": [
    {
     "name": "stdout",
     "output_type": "stream",
     "text": [
      "{\n",
      "  \"hello\": 3,\n",
      "  \"this\": 2,\n",
      "  \"that\": 3,\n",
      "  \"is\": 1,\n",
      "  \"a\": 3,\n",
      "  \"long\": 2\n",
      "}\n"
     ]
    }
   ],
   "source": [
    "# Counting frequency of words in a string\n",
    "\n",
    "import json\n",
    "s = \"hello this that hello that is a long a this long hello that a\"\n",
    "l = [i for i in s.split()] # List comprehension\n",
    "d = dict()\n",
    "for i in l:\n",
    "    if i not in d:\n",
    "        d[i] = 1\n",
    "    else:\n",
    "        d[i] += 1\n",
    "print(json.dumps(d,indent=2))"
   ]
  },
  {
   "cell_type": "markdown",
   "metadata": {},
   "source": [
    "### Dictionary Manipulation methods\n",
    "- len(dict)\n",
    "- get(key,error message) : similar to dict[key] but can specify custom error message\n",
    "- items(), keys(), values()\n",
    "- dict.fromkeys(key sequence, value) : creating dictionary from a sequence containing all keys and a common value\n",
    "- setdefault(key,value) : inserts key only if key doesn't exist, otherwise returns current value of the key\n",
    "- dict1.update(dict2) : merges key-value pairs from new dict to original dict, adding or replacing values as needed\n",
    "- copy(), deepcopy() : creates a shallow/deep copy of a dictionary\n",
    "- Deleting elements from a dictionary:\n",
    "    1. pop(key, return value) : if key is found, key is deleted and value is returned, otherwise default value is returned\n",
    "    2. popitem() : removes and returns a key-value pair, follows LIFO\n",
    "    3. clear() : empties the dictionary\n",
    "- sorted(dict, reverse=True/False(default)) : returns a sorted list of dictionary keys/values\n",
    "- max(dict), min(dict), sum(dict) : gives maximum, minimum key or sum of keys from the dictionary\n",
    "\n"
   ]
  },
  {
   "cell_type": "code",
   "execution_count": 84,
   "metadata": {},
   "outputs": [
    {
     "name": "stdout",
     "output_type": "stream",
     "text": [
      "{1: 100, 2: 100, 3: 100, 4: 100, 5: 100}\n",
      "100\n",
      "{1: 100, 2: 100, 3: 100, 4: 100, 5: 100}\n",
      "{1: 100, 2: 100, 3: 100, 4: 100, 5: 50, 6: 50, 7: 50}\n",
      "5\n",
      "18\n"
     ]
    }
   ],
   "source": [
    "d1 = dict.fromkeys([1,2,3,4,5],100)\n",
    "print(d1)\n",
    "print(d1.setdefault(5,50)) # test function by making key 5 and 6, 5:50 returns 100 as 100 is the original value for the key 5\n",
    "print(d1)\n",
    "d2 = dict(zip((5,6,7),(50,50,50)))\n",
    "d1.update(d2)\n",
    "print(d1)\n",
    "print(min(d2))\n",
    "print(sum(d2))\n"
   ]
  },
  {
   "cell_type": "code",
   "execution_count": 80,
   "metadata": {},
   "outputs": [
    {
     "name": "stdout",
     "output_type": "stream",
     "text": [
      "[(1, 'one'), (2, 'two'), (3, 'three'), (4, 'four')]\n"
     ]
    }
   ],
   "source": [
    "# Sorting dictionary items\n",
    "\n",
    "d = {1:\"one\",4:\"four\",2:\"two\",3:\"three\"}\n",
    "sdk = sorted(d.items())\n",
    "print(sdk)"
   ]
  },
  {
   "cell_type": "markdown",
   "metadata": {},
   "source": [
    "### Try/Except/Finally block\n",
    "Used for error handling"
   ]
  },
  {
   "cell_type": "code",
   "execution_count": 4,
   "metadata": {},
   "outputs": [
    {
     "name": "stdout",
     "output_type": "stream",
     "text": [
      "Error detected: invalid literal for int() with base 10: 'ew'\n",
      "try except block completed\n"
     ]
    }
   ],
   "source": [
    "try:\n",
    "    n = int(input(\"Enter a value: \"))\n",
    "    if(n%2==0):\n",
    "        print(\"n is even\")\n",
    "    else:\n",
    "        print(\"n is odd\")\n",
    "except Exception as e:\n",
    "    print(\"Error detected:\",e)\n",
    "finally:\n",
    "    print(\"try except block completed\")"
   ]
  },
  {
   "cell_type": "markdown",
   "metadata": {},
   "source": [
    "### Reading files\n",
    "- r : read file\n",
    "- w : write on file\n",
    "- a : append to file\n",
    "- r+ : reading and writing\n",
    "- strip() : used to remove newline character at the end of each line"
   ]
  },
  {
   "cell_type": "code",
   "execution_count": 10,
   "metadata": {},
   "outputs": [
    {
     "name": "stdout",
     "output_type": "stream",
     "text": [
      "True\n",
      "hello world\n",
      "how are you"
     ]
    }
   ],
   "source": [
    "file = open('sample.txt','r')\n",
    "print(file.readable())\n",
    "# print(file.readline())\n",
    "l = file.readlines()\n",
    "for i in l:\n",
    "    print(i,end=\"\")\n",
    "file.close()"
   ]
  },
  {
   "cell_type": "code",
   "execution_count": 11,
   "metadata": {},
   "outputs": [
    {
     "name": "stdout",
     "output_type": "stream",
     "text": [
      "hello worldhow are you"
     ]
    }
   ],
   "source": [
    "# Open the file in read mode\n",
    "with open(\"sample.txt\", \"r\") as file:\n",
    "    # Read lines and strip newline characters\n",
    "    lines = [line.strip() for line in file]\n",
    "\n",
    "# Print the lines without newline characters\n",
    "for line in lines:\n",
    "    print(line, end=\"\")\n",
    "\n",
    "file.close()\n"
   ]
  },
  {
   "cell_type": "markdown",
   "metadata": {},
   "source": [
    "### Writing/Appending to Files"
   ]
  },
  {
   "cell_type": "code",
   "execution_count": 13,
   "metadata": {},
   "outputs": [
    {
     "data": {
      "text/plain": [
       "20"
      ]
     },
     "execution_count": 13,
     "metadata": {},
     "output_type": "execute_result"
    }
   ],
   "source": [
    "file = open(\"sample.txt\", \"w\")\n",
    "file.write('This is the new text') # Will rewrite the file, deleting previous content\n",
    "file.close()"
   ]
  },
  {
   "cell_type": "code",
   "execution_count": 15,
   "metadata": {},
   "outputs": [],
   "source": [
    "file  = open(\"sample.txt\",\"a\")\n",
    "file.write(\"\\nThis is the second line\") # Append mode will not rewrite the file, will just add the new data\n",
    "file.close()"
   ]
  },
  {
   "cell_type": "markdown",
   "metadata": {},
   "source": [
    "### Classes and Objects\n",
    "- init : acts as constructor\n",
    "- del obj : can be used to delete the object, or a member variable of the object\n",
    "- pass : used to bypass the compiler to continue with the code, ,i.e filler value if the block is empty\n",
    "- Inheritance : Taking methods, variables, etc from an existing class and putting them into a new class"
   ]
  },
  {
   "cell_type": "code",
   "execution_count": 27,
   "metadata": {},
   "outputs": [
    {
     "name": "stdout",
     "output_type": "stream",
     "text": [
      "30\n",
      "Ron\n"
     ]
    }
   ],
   "source": [
    "class Person:\n",
    "    x = 5\n",
    "    def __init__(self,name,age):\n",
    "        self.name = name\n",
    "        self.age = age\n",
    "\n",
    "class Bypass(Person): # Bypass class inherits Person class\n",
    "    pass\n",
    "\n",
    "p1 = Person('John',30)\n",
    "p2 = Person('Rick',23)\n",
    "print(p1.age)\n",
    "del p1.age\n",
    "del p1\n",
    "p3 = Bypass('Ron',34)\n",
    "print(p3.name)"
   ]
  }
 ],
 "metadata": {
  "kernelspec": {
   "display_name": "Python 3",
   "language": "python",
   "name": "python3"
  },
  "language_info": {
   "codemirror_mode": {
    "name": "ipython",
    "version": 3
   },
   "file_extension": ".py",
   "mimetype": "text/x-python",
   "name": "python",
   "nbconvert_exporter": "python",
   "pygments_lexer": "ipython3",
   "version": "3.12.5"
  }
 },
 "nbformat": 4,
 "nbformat_minor": 2
}
